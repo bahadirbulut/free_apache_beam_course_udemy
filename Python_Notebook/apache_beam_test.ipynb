{
  "nbformat": 4,
  "nbformat_minor": 0,
  "metadata": {
    "colab": {
      "name": "apache beam test.ipynb",
      "provenance": [],
      "collapsed_sections": []
    },
    "kernelspec": {
      "name": "python3",
      "display_name": "Python 3"
    }
  },
  "cells": [
    {
      "cell_type": "code",
      "metadata": {
        "id": "_UBcjrf5eBZe",
        "colab_type": "code",
        "colab": {}
      },
      "source": [
        "# Install beam library\n",
        "!pip install apache_beam"
      ],
      "execution_count": 0,
      "outputs": []
    },
    {
      "cell_type": "code",
      "metadata": {
        "id": "d6U6f3rlg0ew",
        "colab_type": "code",
        "colab": {
          "base_uri": "https://localhost:8080/",
          "height": 119
        },
        "outputId": "9016d87b-3d85-490d-cf22-f67ccb16a64d"
      },
      "source": [
        "# Clone github repo\n",
        "!git clone https://github.com/bahadirbulut/free_apache_beam_course_udemy.git"
      ],
      "execution_count": 2,
      "outputs": [
        {
          "output_type": "stream",
          "text": [
            "Cloning into 'free_apache_beam_course_udemy'...\n",
            "remote: Enumerating objects: 40, done.\u001b[K\n",
            "remote: Counting objects: 100% (40/40), done.\u001b[K\n",
            "remote: Compressing objects: 100% (36/36), done.\u001b[K\n",
            "remote: Total 40 (delta 4), reused 32 (delta 3), pack-reused 0\u001b[K\n",
            "Unpacking objects: 100% (40/40), done.\n"
          ],
          "name": "stdout"
        }
      ]
    },
    {
      "cell_type": "code",
      "metadata": {
        "id": "qjrR20e8eTl6",
        "colab_type": "code",
        "colab": {
          "base_uri": "https://localhost:8080/",
          "height": 71
        },
        "outputId": "55c3e387-b59a-496d-caec-32a90d896896"
      },
      "source": [
        "# Import beam library\n",
        "import apache_beam as beam  \n",
        "\n",
        "# File path\n",
        "path = 'free_apache_beam_course_udemy/Apache_Beam_Data/movies_rating.txt'\n",
        "\n",
        "# Create pipeline pbject\n",
        "p1 = beam.Pipeline()\n",
        "\n",
        "movie_gt_4 = (\n",
        "    # Pass the pipeline object\n",
        "    p1\n",
        "    | beam.io.ReadFromText(path, skip_header_lines=1) # Read the file and skip the headers\n",
        "    | beam.Map(lambda record: record.split(',')) # Split the lines using comma delimiter\n",
        "    | beam.Filter(lambda record: float(record[2]) > 4) # Get only the movies with rating > 4\n",
        "    | beam.io.WriteToText('result.txt') # Write the output to a text file\n",
        ")\n",
        "\n",
        "p1.run()"
      ],
      "execution_count": 6,
      "outputs": [
        {
          "output_type": "stream",
          "text": [
            "WARNING:apache_beam.runners.interactive.interactive_environment:Dependencies required for Interactive Beam PCollection visualization are not available, please use: `pip install apache-beam[interactive]` to install necessary dependencies to enable all data visualization features.\n"
          ],
          "name": "stderr"
        },
        {
          "output_type": "execute_result",
          "data": {
            "text/plain": [
              "<apache_beam.runners.portability.fn_api_runner.RunnerResult at 0x7f4285926c18>"
            ]
          },
          "metadata": {
            "tags": []
          },
          "execution_count": 6
        }
      ]
    },
    {
      "cell_type": "code",
      "metadata": {
        "id": "J-u8fSLhirah",
        "colab_type": "code",
        "colab": {}
      },
      "source": [
        ""
      ],
      "execution_count": 0,
      "outputs": []
    }
  ]
}